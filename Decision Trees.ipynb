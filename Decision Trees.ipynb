{
 "cells": [
  {
   "cell_type": "markdown",
   "metadata": {},
   "source": [
    "## Decision Trees ran on a made up dataset\n",
    "I created a similar dataset to the one we may have in order to check how useful and quick decision trees can be in our case. Ideally, we should create a dataset with qualitative data as it will be the case with KPMG dataset. I sticked to quantitative data for time efficiency, the goal of today beeing only to determine which algo is the most applicable to anomaly detection. "
   ]
  },
  {
   "cell_type": "code",
   "execution_count": 56,
   "metadata": {},
   "outputs": [],
   "source": [
    "from sklearn.datasets import load_iris\n",
    "from sklearn.metrics import accuracy_score\n",
    "import numpy as np"
   ]
  },
  {
   "cell_type": "code",
   "execution_count": 57,
   "metadata": {},
   "outputs": [],
   "source": [
    "# New dataset with: [Asset price, yearly volatility, return in % (can be capital gain, div, coupon)]\n",
    "X = np.array([[102, 15, 9], [76, 31, 11], [546, 26, 20], [321, 22, 14], [23, 50, 90], # Capital Gains\n",
    "              [87, 31, 3], [211, 8, 2], [171, 26, 1], [54, 19, 2], [302, 27, 1],      # Dividends\n",
    "              [91, 13, 4], [21, 38, 8], [11, 24, 6], [4, 39, 9], [32, 7, 2]])         # Coupons\n",
    "\n",
    "# capital gain (0), dividend (1), coupon(2) \n",
    "y = np.array([0, 0, 0, 0, 0, 1, 1, 1, 1, 1, 2, 2, 2, 2, 2]) "
   ]
  },
  {
   "cell_type": "code",
   "execution_count": 58,
   "metadata": {},
   "outputs": [],
   "source": [
    "# Import Library for splitting data\n",
    "from sklearn.model_selection import train_test_split\n",
    "\n",
    "# Creating Train and Test datasets\n",
    "X_train, X_test, y_train, y_test = train_test_split(X,y, random_state = 50, test_size = 6)"
   ]
  },
  {
   "cell_type": "code",
   "execution_count": 59,
   "metadata": {},
   "outputs": [
    {
     "data": {
      "text/plain": [
       "DecisionTreeClassifier(ccp_alpha=0.0, class_weight=None, criterion='gini',\n",
       "                       max_depth=None, max_features=None, max_leaf_nodes=None,\n",
       "                       min_impurity_decrease=0.0, min_impurity_split=None,\n",
       "                       min_samples_leaf=1, min_samples_split=2,\n",
       "                       min_weight_fraction_leaf=0.0, presort='deprecated',\n",
       "                       random_state=None, splitter='best')"
      ]
     },
     "execution_count": 59,
     "metadata": {},
     "output_type": "execute_result"
    }
   ],
   "source": [
    "# Creating Decision Tree Classifier\n",
    "from sklearn.tree import DecisionTreeClassifier\n",
    "clf = DecisionTreeClassifier()\n",
    "clf.fit(X_train,y_train)"
   ]
  },
  {
   "cell_type": "code",
   "execution_count": 60,
   "metadata": {},
   "outputs": [
    {
     "name": "stdout",
     "output_type": "stream",
     "text": [
      "[2 2 2 0 0 1]\n",
      "[0 2 1 0 0 2]\n",
      "Train data accuracy: 1.0\n",
      "Test data accuracy: 0.5\n"
     ]
    }
   ],
   "source": [
    "# Predict Accuracy Score\n",
    "y_pred = clf.predict(X_test)\n",
    "print(y_test)\n",
    "print(y_pred)\n",
    "print(\"Train data accuracy:\",accuracy_score(y_true = y_train, y_pred=clf.predict(X_train)))\n",
    "print(\"Test data accuracy:\",accuracy_score(y_true = y_test, y_pred=y_pred))"
   ]
  },
  {
   "cell_type": "code",
   "execution_count": null,
   "metadata": {},
   "outputs": [],
   "source": []
  }
 ],
 "metadata": {
  "kernelspec": {
   "display_name": "Python 3",
   "language": "python",
   "name": "python3"
  },
  "language_info": {
   "codemirror_mode": {
    "name": "ipython",
    "version": 3
   },
   "file_extension": ".py",
   "mimetype": "text/x-python",
   "name": "python",
   "nbconvert_exporter": "python",
   "pygments_lexer": "ipython3",
   "version": "3.7.4"
  }
 },
 "nbformat": 4,
 "nbformat_minor": 4
}
