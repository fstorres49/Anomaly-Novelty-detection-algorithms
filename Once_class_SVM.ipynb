{
 "cells": [
  {
   "cell_type": "code",
   "execution_count": 1,
   "id": "7c9a5069",
   "metadata": {},
   "outputs": [],
   "source": [
    "# Intro to One class SVM: http://rvlasveld.github.io/blog/2013/07/12/introduction-to-one-class-support-vector-machines/\n",
    "# How to use Support Vector Machines for One-Class Classification?: https://analyticsindiamag.com/how-to-use-support-vector-machines-for-one-class-classification/\n",
    "# Advantages & Disadvantages of SVM: https://dhirajkumarblog.medium.com/top-4-advantages-and-disadvantages-of-support-vector-machine-or-svm-a3c06a2b107\n",
    "\n",
    "# Papers #\n",
    "# Support Vector Method for Novelty Detection (Schölkopf - distance maximization from origin to hyperplane):https://proceedings.neurips.cc/paper/1999/file/8725fb777f25776ffa9076e44fcfd776-Paper.pdf\n",
    "# Support Vector Data Description (Tax and Duin - spherical approach):https://link.springer.com/content/pdf/10.1023/B:MACH.0000008084.60811.49.pdf\n",
    "\n",
    "# Used in this JN: https://www.analyticsvidhya.com/blog/2022/06/one-class-classification-using-support-vector-machines/\n",
    "\n",
    "# Clustering Methods (Extra): https://estreuselito.github.io/Deus_ex_machina/Mini-Project/Master.html\n",
    "# Novelty and Outlier detection (extra): https://scikit-learn.org/stable/modules/outlier_detection.html#overview-of-outlier-detection-methods"
   ]
  },
  {
   "cell_type": "code",
   "execution_count": 2,
   "id": "ac44a677",
   "metadata": {},
   "outputs": [
    {
     "data": {
      "text/plain": [
       "array([-1,  1, -1,  1, -1])"
      ]
     },
     "execution_count": 2,
     "metadata": {},
     "output_type": "execute_result"
    }
   ],
   "source": [
    "# One class SVM 10 data points.\n",
    "from sklearn.svm import OneClassSVM\n",
    "\n",
    "X = [[1],[2],[3],[4],[5],[6],[7],[8],[9],[10]]\n",
    "\n",
    "y = [[-1],[1],[-2],[2],[-3]]\n",
    "\n",
    "one_svm = OneClassSVM(gamma='auto', nu=0.01).fit(X)\n",
    "\n",
    "# gamma is used to set the kernel function for forming the hypersphere to learn and\n",
    "# differienciate samples and the hyperparameter nu is tuned to approximate the ratio\n",
    "# of outliers\n",
    "\n",
    "one_svm.predict(y)\n",
    "\n",
    "# estimator predict method is used to classify the data points between classes 1, -1\n",
    "# based on the training data"
   ]
  },
  {
   "cell_type": "code",
   "execution_count": 3,
   "id": "0db13f4e",
   "metadata": {},
   "outputs": [
    {
     "data": {
      "text/plain": [
       "array([2.47729192e-04, 1.67496679e-02, 1.66310989e-06, 1.70740848e-02,\n",
       "       1.51581080e-09])"
      ]
     },
     "execution_count": 3,
     "metadata": {},
     "output_type": "execute_result"
    }
   ],
   "source": [
    "one_svm.score_samples(y)\n",
    "# score_samples method is used to access the scoring function of the estimator and the \n",
    "# contamination parameter is used to set the threshold for classification "
   ]
  },
  {
   "cell_type": "code",
   "execution_count": 4,
   "id": "393eec41",
   "metadata": {},
   "outputs": [
    {
     "data": {
      "text/plain": [
       "array([-0.01639928,  0.00010266, -0.01664534,  0.00042708, -0.016647  ])"
      ]
     },
     "execution_count": 4,
     "metadata": {},
     "output_type": "execute_result"
    }
   ],
   "source": [
    "one_svm.decision_function(y)\n",
    "# decision_function returns the value such that the negative values represents the\n",
    "# sample to be outlier or out of training distribution"
   ]
  }
 ],
 "metadata": {
  "kernelspec": {
   "display_name": "Python 3",
   "language": "python",
   "name": "python3"
  },
  "language_info": {
   "codemirror_mode": {
    "name": "ipython",
    "version": 3
   },
   "file_extension": ".py",
   "mimetype": "text/x-python",
   "name": "python",
   "nbconvert_exporter": "python",
   "pygments_lexer": "ipython3",
   "version": "3.6.13"
  }
 },
 "nbformat": 4,
 "nbformat_minor": 5
}
